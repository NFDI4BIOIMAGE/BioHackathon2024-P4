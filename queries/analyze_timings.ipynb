{
 "cells": [
  {
   "cell_type": "code",
   "execution_count": 24,
   "id": "a153ddb4-bba5-4351-8bdf-6c3a97cd0ffb",
   "metadata": {},
   "outputs": [],
   "source": [
    "import pandas, seaborn\n",
    "import matplotlib as mpl"
   ]
  },
  {
   "cell_type": "code",
   "execution_count": 8,
   "id": "5e9f7b76-07b9-4b0a-a83e-158ac484f179",
   "metadata": {},
   "outputs": [
    {
     "data": {
      "text/plain": [
       "'01-list_of_attributes.timings.tsv'"
      ]
     },
     "execution_count": 8,
     "metadata": {},
     "output_type": "execute_result"
    }
   ],
   "source": [
    "DATASET='01-list_of_attributes'\n",
    "timings_fname = DATASET + \".timings.tsv\"\n",
    "timings_fname"
   ]
  },
  {
   "cell_type": "code",
   "execution_count": 9,
   "id": "4a022cb3-57b6-4266-b6bc-38047251054a",
   "metadata": {},
   "outputs": [],
   "source": [
    "timings_data = pandas.read_csv(timings_fname, sep=',', header=0)"
   ]
  },
  {
   "cell_type": "code",
   "execution_count": 10,
   "id": "c541c4dc-e5fd-4299-8f23-ab06b65be298",
   "metadata": {},
   "outputs": [
    {
     "data": {
      "text/html": [
       "<div>\n",
       "<style scoped>\n",
       "    .dataframe tbody tr th:only-of-type {\n",
       "        vertical-align: middle;\n",
       "    }\n",
       "\n",
       "    .dataframe tbody tr th {\n",
       "        vertical-align: top;\n",
       "    }\n",
       "\n",
       "    .dataframe thead th {\n",
       "        text-align: right;\n",
       "    }\n",
       "</style>\n",
       "<table border=\"1\" class=\"dataframe\">\n",
       "  <thead>\n",
       "    <tr style=\"text-align: right;\">\n",
       "      <th></th>\n",
       "      <th>Wall (s)</th>\n",
       "      <th>User (s)</th>\n",
       "      <th>Sys(s)</th>\n",
       "    </tr>\n",
       "  </thead>\n",
       "  <tbody>\n",
       "    <tr>\n",
       "      <th>0</th>\n",
       "      <td>1.39</td>\n",
       "      <td>5.45</td>\n",
       "      <td>0.42</td>\n",
       "    </tr>\n",
       "    <tr>\n",
       "      <th>1</th>\n",
       "      <td>1.30</td>\n",
       "      <td>5.06</td>\n",
       "      <td>0.55</td>\n",
       "    </tr>\n",
       "    <tr>\n",
       "      <th>2</th>\n",
       "      <td>1.37</td>\n",
       "      <td>5.15</td>\n",
       "      <td>0.47</td>\n",
       "    </tr>\n",
       "    <tr>\n",
       "      <th>3</th>\n",
       "      <td>1.36</td>\n",
       "      <td>5.18</td>\n",
       "      <td>0.38</td>\n",
       "    </tr>\n",
       "    <tr>\n",
       "      <th>4</th>\n",
       "      <td>1.39</td>\n",
       "      <td>5.29</td>\n",
       "      <td>0.51</td>\n",
       "    </tr>\n",
       "    <tr>\n",
       "      <th>5</th>\n",
       "      <td>1.33</td>\n",
       "      <td>5.55</td>\n",
       "      <td>0.36</td>\n",
       "    </tr>\n",
       "    <tr>\n",
       "      <th>6</th>\n",
       "      <td>1.34</td>\n",
       "      <td>5.54</td>\n",
       "      <td>0.36</td>\n",
       "    </tr>\n",
       "    <tr>\n",
       "      <th>7</th>\n",
       "      <td>1.40</td>\n",
       "      <td>5.49</td>\n",
       "      <td>0.46</td>\n",
       "    </tr>\n",
       "    <tr>\n",
       "      <th>8</th>\n",
       "      <td>1.42</td>\n",
       "      <td>5.47</td>\n",
       "      <td>0.47</td>\n",
       "    </tr>\n",
       "  </tbody>\n",
       "</table>\n",
       "</div>"
      ],
      "text/plain": [
       "   Wall (s)  User (s)  Sys(s)\n",
       "0      1.39      5.45    0.42\n",
       "1      1.30      5.06    0.55\n",
       "2      1.37      5.15    0.47\n",
       "3      1.36      5.18    0.38\n",
       "4      1.39      5.29    0.51\n",
       "5      1.33      5.55    0.36\n",
       "6      1.34      5.54    0.36\n",
       "7      1.40      5.49    0.46\n",
       "8      1.42      5.47    0.47"
      ]
     },
     "execution_count": 10,
     "metadata": {},
     "output_type": "execute_result"
    }
   ],
   "source": [
    "timings_data"
   ]
  },
  {
   "cell_type": "code",
   "execution_count": 29,
   "id": "d7b6e041-a20f-4897-84f2-cb42eaf63d98",
   "metadata": {},
   "outputs": [
    {
     "data": {
      "text/html": [
       "<div>\n",
       "<style scoped>\n",
       "    .dataframe tbody tr th:only-of-type {\n",
       "        vertical-align: middle;\n",
       "    }\n",
       "\n",
       "    .dataframe tbody tr th {\n",
       "        vertical-align: top;\n",
       "    }\n",
       "\n",
       "    .dataframe thead th {\n",
       "        text-align: right;\n",
       "    }\n",
       "</style>\n",
       "<table border=\"1\" class=\"dataframe\">\n",
       "  <thead>\n",
       "    <tr style=\"text-align: right;\">\n",
       "      <th></th>\n",
       "      <th>Wall (s)</th>\n",
       "      <th>User (s)</th>\n",
       "      <th>Sys(s)</th>\n",
       "    </tr>\n",
       "  </thead>\n",
       "  <tbody>\n",
       "    <tr>\n",
       "      <th>mean</th>\n",
       "      <td>1.366667</td>\n",
       "      <td>5.353333</td>\n",
       "      <td>0.442222</td>\n",
       "    </tr>\n",
       "    <tr>\n",
       "      <th>std</th>\n",
       "      <td>0.038079</td>\n",
       "      <td>0.185944</td>\n",
       "      <td>0.067041</td>\n",
       "    </tr>\n",
       "  </tbody>\n",
       "</table>\n",
       "</div>"
      ],
      "text/plain": [
       "      Wall (s)  User (s)    Sys(s)\n",
       "mean  1.366667  5.353333  0.442222\n",
       "std   0.038079  0.185944  0.067041"
      ]
     },
     "execution_count": 29,
     "metadata": {},
     "output_type": "execute_result"
    }
   ],
   "source": [
    "timings_data.describe().loc[['mean', 'std']]"
   ]
  },
  {
   "cell_type": "code",
   "execution_count": 38,
   "id": "2046237f-ab23-4b9c-b42b-21b542db929a",
   "metadata": {},
   "outputs": [
    {
     "data": {
      "text/plain": [
       "Text(0.5, 1.0, 'Query 01: list of attributes')"
      ]
     },
     "execution_count": 38,
     "metadata": {},
     "output_type": "execute_result"
    },
    {
     "data": {
      "image/png": "[encoded data removed]",
      "text/plain": [
       "<Figure size 640x480 with 1 Axes>"
      ]
     },
     "metadata": {},
     "output_type": "display_data"
    }
   ],
   "source": [
    "fig, ax = mpl.pyplot.subplots()\n",
    "seaborn.violinplot(data=timings_data.melt(), x='variable', y='value', hue='variable', alpha=0.3, ax=ax)\n",
    "seaborn.stripplot(data=timings_data.melt(), x='variable', y='value', hue='variable', ax=ax)\n",
    "ax.set_xlabel('')\n",
    "ax.set_ylabel('time')\n",
    "ax.set_title(\"Query \"+DATASET.replace(\"_\", \" \").replace(\"-\", \": \"))"
   ]
  },
  {
   "cell_type": "code",
   "execution_count": 41,
   "id": "4a044e28-b9fb-47e9-86ac-5ebe4a622736",
   "metadata": {},
   "outputs": [
    {
     "ename": "PyperclipException",
     "evalue": "\n    Pyperclip could not find a copy/paste mechanism for your system.\n    For more information, please visit\n    https://pyperclip.readthedocs.io/en/latest/index.html#not-implemented-error\n    ",
     "output_type": "error",
     "traceback": [
      "\u001b[0;31m---------------------------------------------------------------------------\u001b[0m",
      "\u001b[0;31mPyperclipException\u001b[0m                        Traceback (most recent call last)",
      "Cell \u001b[0;32mIn[41], line 1\u001b[0m\n\u001b[0;32m----> 1\u001b[0m \u001b[43mpandas\u001b[49m\u001b[38;5;241;43m.\u001b[39;49m\u001b[43mread_clipboard\u001b[49m\u001b[43m(\u001b[49m\u001b[43m)\u001b[49m\n",
      "File \u001b[0;32m/scratch/grotec/mambaforge/lib/python3.10/site-packages/pandas/io/clipboards.py:86\u001b[0m, in \u001b[0;36mread_clipboard\u001b[0;34m(sep, dtype_backend, **kwargs)\u001b[0m\n\u001b[1;32m     83\u001b[0m \u001b[38;5;28;01mfrom\u001b[39;00m \u001b[38;5;21;01mpandas\u001b[39;00m\u001b[38;5;21;01m.\u001b[39;00m\u001b[38;5;21;01mio\u001b[39;00m\u001b[38;5;21;01m.\u001b[39;00m\u001b[38;5;21;01mclipboard\u001b[39;00m \u001b[38;5;28;01mimport\u001b[39;00m clipboard_get\n\u001b[1;32m     84\u001b[0m \u001b[38;5;28;01mfrom\u001b[39;00m \u001b[38;5;21;01mpandas\u001b[39;00m\u001b[38;5;21;01m.\u001b[39;00m\u001b[38;5;21;01mio\u001b[39;00m\u001b[38;5;21;01m.\u001b[39;00m\u001b[38;5;21;01mparsers\u001b[39;00m \u001b[38;5;28;01mimport\u001b[39;00m read_csv\n\u001b[0;32m---> 86\u001b[0m text \u001b[38;5;241m=\u001b[39m \u001b[43mclipboard_get\u001b[49m\u001b[43m(\u001b[49m\u001b[43m)\u001b[49m\n\u001b[1;32m     88\u001b[0m \u001b[38;5;66;03m# Try to decode (if needed, as \"text\" might already be a string here).\u001b[39;00m\n\u001b[1;32m     89\u001b[0m \u001b[38;5;28;01mtry\u001b[39;00m:\n",
      "File \u001b[0;32m/scratch/grotec/mambaforge/lib/python3.10/site-packages/pandas/io/clipboard/__init__.py:681\u001b[0m, in \u001b[0;36mlazy_load_stub_paste\u001b[0;34m()\u001b[0m\n\u001b[1;32m    679\u001b[0m \u001b[38;5;28;01mglobal\u001b[39;00m copy, paste\n\u001b[1;32m    680\u001b[0m copy, paste \u001b[38;5;241m=\u001b[39m determine_clipboard()\n\u001b[0;32m--> 681\u001b[0m \u001b[38;5;28;01mreturn\u001b[39;00m \u001b[43mpaste\u001b[49m\u001b[43m(\u001b[49m\u001b[43m)\u001b[49m\n",
      "File \u001b[0;32m/scratch/grotec/mambaforge/lib/python3.10/site-packages/pandas/io/clipboard/__init__.py:316\u001b[0m, in \u001b[0;36minit_no_clipboard.<locals>.ClipboardUnavailable.__call__\u001b[0;34m(self, *args, **kwargs)\u001b[0m\n\u001b[1;32m    315\u001b[0m \u001b[38;5;28;01mdef\u001b[39;00m \u001b[38;5;21m__call__\u001b[39m(\u001b[38;5;28mself\u001b[39m, \u001b[38;5;241m*\u001b[39margs, \u001b[38;5;241m*\u001b[39m\u001b[38;5;241m*\u001b[39mkwargs):\n\u001b[0;32m--> 316\u001b[0m     \u001b[38;5;28;01mraise\u001b[39;00m PyperclipException(EXCEPT_MSG)\n",
      "\u001b[0;31mPyperclipException\u001b[0m: \n    Pyperclip could not find a copy/paste mechanism for your system.\n    For more information, please visit\n    https://pyperclip.readthedocs.io/en/latest/index.html#not-implemented-error\n    "
     ]
    }
   ],
   "source": [
    "pandas.read_clipboard()"
   ]
  },
  {
   "cell_type": "code",
   "execution_count": null,
   "id": "11d0d783-c6ee-4b3c-b3c5-2c07dac6ad2d",
   "metadata": {},
   "outputs": [],
   "source": [
    "Wall (s),User (s),Sys(s)\n",
    "1.43,5.53,0.36\n",
    "1.40,5.50,0.39\n",
    "1.37,5.53,0.41\n",
    "1.37,5.37,0.42\n",
    "1.36,5.57,0.40\n",
    "1.38,5.23,0.47\n",
    "1.38,5.52,0.46\n",
    "1.38,5.54,0.43\n",
    "1.38,5.60,0.39\n"
   ]
  }
 ],
 "metadata": {
  "kernelspec": {
   "display_name": "Python 3 (ipykernel)",
   "language": "python",
   "name": "python3"
  },
  "language_info": {
   "codemirror_mode": {
    "name": "ipython",
    "version": 3
   },
   "file_extension": ".py",
   "mimetype": "text/x-python",
   "name": "python",
   "nbconvert_exporter": "python",
   "pygments_lexer": "ipython3",
   "version": "3.10.13"
  },
  "widgets": {
   "application/vnd.jupyter.widget-state+json": {
    "state": {},
    "version_major": 2,
    "version_minor": 0
   }
  }
 },
 "nbformat": 4,
 "nbformat_minor": 5
}
